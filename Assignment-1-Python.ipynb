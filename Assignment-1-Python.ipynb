{
 "cells": [
  {
   "cell_type": "markdown",
   "metadata": {},
   "source": [
    "## Question No. 1: Calculate Area of a Circle\n",
    "\n",
    "Write a Python program which accepts the radius of a circle from the user and compute the area."
   ]
  },
  {
   "cell_type": "code",
   "execution_count": 1,
   "metadata": {},
   "outputs": [
    {
     "name": "stdout",
     "output_type": "stream",
     "text": [
      "Input Radius: 0.5\n",
      "Area of Circle with radius 0.5 is 0.7853981635\n"
     ]
    }
   ],
   "source": [
    "radius = float(input(\"Input Radius: \"))\n",
    "\n",
    "area = 3.141592654 * (radius**2)\n",
    "\n",
    "print('Area of Circle with radius {0} is {1}'.format(radius, area))"
   ]
  },
  {
   "cell_type": "markdown",
   "metadata": {},
   "source": [
    "## Question No. 2: Check Number either positive, negative or zero\n",
    "\n",
    "Write a Python program to check if a number is positive, negative or zero"
   ]
  },
  {
   "cell_type": "code",
   "execution_count": 2,
   "metadata": {},
   "outputs": [
    {
     "name": "stdout",
     "output_type": "stream",
     "text": [
      "Enter Integer: 3\n",
      "Positive Number Entered\n"
     ]
    }
   ],
   "source": [
    "num = int(input('Enter Integer: '))\n",
    "if num < 0:\n",
    "    print('Negative Number Entered')\n",
    "elif num > 0:\n",
    "    print('Positive Number Entered')\n",
    "else:\n",
    "    print('Zero Entered')"
   ]
  },
  {
   "cell_type": "markdown",
   "metadata": {},
   "source": [
    "## Question No. 3: Divisibility Check of two numbers\n",
    "\n",
    "Write a Python program to check whether a number is completely divisible by another number. Accept two integer values form the user"
   ]
  },
  {
   "cell_type": "code",
   "execution_count": 3,
   "metadata": {},
   "outputs": [
    {
     "name": "stdout",
     "output_type": "stream",
     "text": [
      "Enter Neumerator: 25\n",
      "Enter Denominator: 5\n",
      "Number 25 is fully divisible by 5.\n"
     ]
    }
   ],
   "source": [
    "num = int(input('Enter Neumerator: '))\n",
    "den = int(input('Enter Denominator: '))\n",
    "\n",
    "if num%den == 0:\n",
    "    print('Number {0} is fully divisible by {1}.'.format(num, den))\n",
    "else:\n",
    "    print('Number {0} is not fully divisible by {1}.'.format(num, den))"
   ]
  },
  {
   "cell_type": "markdown",
   "metadata": {},
   "source": [
    "## Question No. 4: Days Calculator\n",
    "\n",
    "Write a Python program to calculate number of days between two dates"
   ]
  },
  {
   "cell_type": "code",
   "execution_count": 4,
   "metadata": {},
   "outputs": [
    {
     "name": "stdout",
     "output_type": "stream",
     "text": [
      "Enter a date in (dd/mm/yyyy) format: 12/12/2018\n",
      "Enter a date in (dd/mm/yyyy) format: 16/12/2018\n",
      "There are 4 days between 12/12/2018 and 16/12/2018\n"
     ]
    }
   ],
   "source": [
    "import datetime\n",
    "\n",
    "date1 = datetime.datetime.strptime(input(\"Enter a date in (dd/mm/yyyy) format: \"), '%d/%m/%Y')\n",
    "date2 = datetime.datetime.strptime(input(\"Enter a date in (dd/mm/yyyy) format: \"), '%d/%m/%Y')\n",
    "\n",
    "print(f\"There are {abs((date1 - date2).days)} days between {date1.strftime('%d/%m/%Y')} and {date2.strftime('%d/%m/%Y')}\")\n"
   ]
  },
  {
   "cell_type": "markdown",
   "metadata": {},
   "source": [
    "## Question No. 5: Calculate Volume of a sphere\n",
    "\n",
    "Write a Python program to get the volume of a sphere, please take the radius as input from user"
   ]
  },
  {
   "cell_type": "code",
   "execution_count": 5,
   "metadata": {},
   "outputs": [
    {
     "name": "stdout",
     "output_type": "stream",
     "text": [
      "Enter Radius of Sphere2\n",
      "Volume of sphere: 33.51\n"
     ]
    }
   ],
   "source": [
    "rad = float(input(\"Enter Radius of Sphere\"))\n",
    "vol = (4/3) * 3.142 * (rad ** 3)\n",
    "print(f\"Volume of sphere: {format(vol, '.2f')}\")"
   ]
  },
  {
   "cell_type": "markdown",
   "metadata": {},
   "source": [
    "## Question No. 6: Copy string n times\n",
    "\n",
    "Write a Python program to get a string which is n (non-negative integer) copies of a given string. "
   ]
  },
  {
   "cell_type": "code",
   "execution_count": 6,
   "metadata": {},
   "outputs": [
    {
     "name": "stdout",
     "output_type": "stream",
     "text": [
      "Enter string: Hi\n",
      "How many copies of string you need: 5\n",
      "5 copies of Hi are HiHiHiHiHi\n"
     ]
    }
   ],
   "source": [
    "instr = input(\"Enter string: \")\n",
    "count = int(input(\"How many copies of string you need: \"))\n",
    "print(f\"{count} copies of {instr} are {instr*count}\")"
   ]
  },
  {
   "cell_type": "markdown",
   "metadata": {},
   "source": [
    "## Question No. 7: Check if number is Even or Odd\n",
    "\n",
    "Write a Python program to find whether a given number (accept from the user) is even or odd, print out an appropriate message to the user"
   ]
  },
  {
   "cell_type": "code",
   "execution_count": 7,
   "metadata": {},
   "outputs": [
    {
     "name": "stdout",
     "output_type": "stream",
     "text": [
      "Enter number: 58\n",
      "58 is Even\n"
     ]
    }
   ],
   "source": [
    "num = int(input(\"Enter number: \"))\n",
    "if num % 2 == 0:\n",
    "    print(f\"{num} is Even\")\n",
    "else:\n",
    "    print(f\"{num} is Odd\")"
   ]
  },
  {
   "cell_type": "markdown",
   "metadata": {},
   "source": [
    "## Question No. 8: Vowel Tester\n",
    "\n",
    "Write a Python program to test whether a passed letter is a vowel or not"
   ]
  },
  {
   "cell_type": "code",
   "execution_count": 8,
   "metadata": {},
   "outputs": [
    {
     "name": "stdout",
     "output_type": "stream",
     "text": [
      "Enter a character: a\n",
      "a is Vowel\n"
     ]
    }
   ],
   "source": [
    "alpha = input(\"Enter a character: \")\n",
    "\n",
    "mylist = {'a', 'e', 'i', 'o', 'u'}\n",
    "\n",
    "if alpha.lower() in mylist:\n",
    "    print(f\"{alpha} is Vowel\")\n",
    "else:\n",
    "    print(f\"{alpha} is not Vowel\")"
   ]
  },
  {
   "cell_type": "markdown",
   "metadata": {},
   "source": [
    "## Question No. 9: Triangle area\n",
    "\n",
    "Write a Python program that will accept the base and height of a triangle and compute the area"
   ]
  },
  {
   "cell_type": "code",
   "execution_count": 9,
   "metadata": {},
   "outputs": [
    {
     "name": "stdout",
     "output_type": "stream",
     "text": [
      "Enter magnitude of Triangle base: 45\n",
      "Enter Magnitude of Triangle Height: 10\n",
      "Area of a Triangle with Height 10.0 and Base 45.0 is 225.00\n"
     ]
    }
   ],
   "source": [
    "base = float(input('Enter magnitude of Triangle base: '))\n",
    "height = float(input('Enter Magnitude of Triangle Height: '))\n",
    "\n",
    "area = 0.5 * base * height\n",
    "\n",
    "print(f\"Area of a Triangle with Height {height} and Base {base} is { format(area, '.2f') }\")\n",
    "    "
   ]
  },
  {
   "cell_type": "markdown",
   "metadata": {},
   "source": [
    "## Question No. 10: Calculate Interest\n",
    "\n",
    "Write a Python program to compute the future value of a specified principal amount, rate of interest, and a number of years"
   ]
  },
  {
   "cell_type": "code",
   "execution_count": 10,
   "metadata": {},
   "outputs": [
    {
     "name": "stdout",
     "output_type": "stream",
     "text": [
      "Please enter principal amount: 10000\n",
      "Please Enter Rate of interest in %: 0.1\n",
      "Enter number of years for investment: 5\n",
      "After 5 years your principal amount 10000.0 over an interest rate of 0.1 % will be 16105.1\n"
     ]
    }
   ],
   "source": [
    "p_amount = float(input(\"Please enter principal amount: \"))\n",
    "rate = float(input(\"Please Enter Rate of interest in %: \"))\n",
    "year = int(input(\"Enter number of years for investment: \"))\n",
    "\n",
    "final = p_amount\n",
    "\n",
    "for _ in range(year):\n",
    "    final += final * (rate)\n",
    "\n",
    "print(f'After {year} years your principal amount {p_amount} over an interest rate of {rate} % will be {final}')"
   ]
  },
  {
   "cell_type": "markdown",
   "metadata": {},
   "source": [
    "## Question No. 11: Euclidean distance\n",
    "\n",
    "Write a Python program to compute the distance between the points (x1, y1) and (x2, y2)."
   ]
  },
  {
   "cell_type": "code",
   "execution_count": 11,
   "metadata": {},
   "outputs": [
    {
     "name": "stdout",
     "output_type": "stream",
     "text": [
      "Enter Co-ordinate for x1: 2\n",
      "Enter Co-ordinate for x2: 4\n",
      "Enter Co-ordinate for y1: 4\n",
      "Enter Co-ordinate for y2: 4\n",
      "Distance between points (2, 4) and (4, 4) is 2.0\n"
     ]
    }
   ],
   "source": [
    "x1 = int(input('Enter Co-ordinate for x1: '))\n",
    "x2 = int(input('Enter Co-ordinate for x2: '))\n",
    "y1 = int(input('Enter Co-ordinate for y1: '))\n",
    "y2 = int(input('Enter Co-ordinate for y2: '))\n",
    "\n",
    "dist = ((x2 - x1) ** 2 + (y2 -y1) ** 2) ** (1/2)\n",
    "\n",
    "print(f'Distance between points ({x1}, {y1}) and ({x2}, {y2}) is {dist}')"
   ]
  },
  {
   "cell_type": "markdown",
   "metadata": {},
   "source": [
    "## Question No. 12: Feet to Centimeter Converter\n",
    "\n",
    "Write a Python program to convert height in feet to centimeters."
   ]
  },
  {
   "cell_type": "code",
   "execution_count": 12,
   "metadata": {},
   "outputs": [
    {
     "name": "stdout",
     "output_type": "stream",
     "text": [
      "Enter Height in Feet: 55\n",
      "There are 1676.4 Cm in 55 ft\n"
     ]
    }
   ],
   "source": [
    "feet = int(input ('Enter Height in Feet: '))\n",
    "\n",
    "centi = feet * 30.48\n",
    "\n",
    "print(f'There are {centi} Cm in {feet} ft')"
   ]
  },
  {
   "cell_type": "markdown",
   "metadata": {},
   "source": [
    "## Question No. 13: BMI Calculator\n",
    "\n",
    "Write a Python program to calculate body mass index"
   ]
  },
  {
   "cell_type": "code",
   "execution_count": 13,
   "metadata": {},
   "outputs": [
    {
     "name": "stdout",
     "output_type": "stream",
     "text": [
      "Enter Height in Cm: 180\n",
      "Enter Weight in Kg: 75\n",
      "Your BMI is  23.15\n"
     ]
    }
   ],
   "source": [
    "height = float(input(\"Enter Height in Cm: \"))/100\n",
    "weight = float(input(\"Enter Weight in Kg: \"))\n",
    "\n",
    "bmi = (weight / (height ** 2) )\n",
    "\n",
    "print(f'Your BMI is {bmi: .2f}')"
   ]
  },
  {
   "cell_type": "markdown",
   "metadata": {},
   "source": [
    "## Question No. 14: Sum of n Positive Integers\n",
    "\n",
    "Write a python program to sum of the first n positive integers"
   ]
  },
  {
   "cell_type": "code",
   "execution_count": 14,
   "metadata": {},
   "outputs": [
    {
     "name": "stdout",
     "output_type": "stream",
     "text": [
      "Enter value of n: 5\n",
      "Sum of n Positive integers till 5 is 15\n"
     ]
    }
   ],
   "source": [
    "num = int(input('Enter value of n: '))\n",
    "\n",
    "mylist = list(range(num+1))\n",
    "listsum = sum(mylist)\n",
    "\n",
    "print(f'Sum of n Positive integers till {num} is {listsum}')"
   ]
  },
  {
   "cell_type": "markdown",
   "metadata": {},
   "source": [
    "## Question No. 15: Digits Sum of a Number\n",
    "\n",
    "Write a Python program to calculate the sum of the digits in an integer"
   ]
  },
  {
   "cell_type": "code",
   "execution_count": 15,
   "metadata": {},
   "outputs": [
    {
     "name": "stdout",
     "output_type": "stream",
     "text": [
      "Enter a number: 55\n",
      "Sum of 5 + 5 is 10\n"
     ]
    }
   ],
   "source": [
    "num_str = input(\"Enter a number: \")\n",
    "\n",
    "summ = 0\n",
    "\n",
    "print('Sum of ', end = '')\n",
    "\n",
    "for i in range(len(num_str)):\n",
    "    summ += int(num_str[i])\n",
    "    print(f'{num_str[i]} ', end = '')\n",
    "    if i != len(num_str) - 1:\n",
    "        print('+ ', end = '')\n",
    "\n",
    "print(f'is {summ}')"
   ]
  },
  {
   "cell_type": "markdown",
   "metadata": {},
   "source": [
    "## Qusetion No. 16: Decimal to Binary Converter\n",
    "\n",
    "Write a Python program to convert an decimal integer to binary"
   ]
  },
  {
   "cell_type": "code",
   "execution_count": 16,
   "metadata": {},
   "outputs": [
    {
     "name": "stdout",
     "output_type": "stream",
     "text": [
      "Enter a decimal number: 37\n",
      "Binary Representation of 5 is 100101"
     ]
    }
   ],
   "source": [
    "decimal = int(input('Enter a decimal number: '))\n",
    "temp = decimal\n",
    "\n",
    "binary = []\n",
    "\n",
    "\n",
    "while (temp>0):\n",
    "    a=int(float(temp%2))\n",
    "    binary.append(a)\n",
    "    temp=(temp-a)/2\n",
    "\n",
    "print(f'Binary Representation of {num} is ', end = '')\n",
    "for i in binary[::-1]:\n",
    "    print(i, end = '')"
   ]
  },
  {
   "cell_type": "markdown",
   "metadata": {},
   "source": [
    "## Question No. 17: Binary to Decimal Converter\n",
    "\n",
    "Write a program to convert binary number to Decimal number"
   ]
  },
  {
   "cell_type": "code",
   "execution_count": 17,
   "metadata": {},
   "outputs": [
    {
     "name": "stdout",
     "output_type": "stream",
     "text": [
      "Enter a Binary number: 1001\n",
      "Decimal Representation of 1001 is 9\n"
     ]
    }
   ],
   "source": [
    "binary = input('Enter a Binary number: ')\n",
    "binary = binary[::-1]\n",
    "val = 0\n",
    "\n",
    "for i in range(len(binary)):\n",
    "    if binary[i] == '1':\n",
    "        val += pow(2, i)\n",
    "        \n",
    "print(f'Decimal Representation of {binary[::-1]} is {val}')"
   ]
  },
  {
   "cell_type": "markdown",
   "metadata": {},
   "source": [
    "## Question No. 18: Vowel and Consonants Counter\n",
    "\n",
    "Input a text and count the occurrences of vowels and consonant"
   ]
  },
  {
   "cell_type": "code",
   "execution_count": 18,
   "metadata": {},
   "outputs": [
    {
     "name": "stdout",
     "output_type": "stream",
     "text": [
      "Enter text: QuickBrownFoxJumpsovertheDog\n",
      "Vowels: 9\n",
      "Consonants: 19\n"
     ]
    }
   ],
   "source": [
    "string = input('Enter text: ')\n",
    "\n",
    "vowel_list = ['a', 'e', 'i', 'o', 'u']\n",
    "\n",
    "vowels = 0\n",
    "consonants = 0\n",
    "\n",
    "for i in string:\n",
    "    if i.lower() in vowel_list:\n",
    "        vowels += 1\n",
    "    else:\n",
    "        consonants += 1\n",
    "\n",
    "print(f'Vowels: {vowels}')\n",
    "print(f'Consonants: {consonants}')"
   ]
  },
  {
   "cell_type": "markdown",
   "metadata": {},
   "source": [
    "## Question No. 19: Palindrome tester\n",
    "\n",
    "Write a program to check whether given input is palindrome or not"
   ]
  },
  {
   "cell_type": "code",
   "execution_count": 19,
   "metadata": {},
   "outputs": [
    {
     "name": "stdout",
     "output_type": "stream",
     "text": [
      "Enter text: HAHAH\n",
      "Text HAHAH is a Palindrome\n"
     ]
    }
   ],
   "source": [
    "string = input('Enter text: ')\n",
    "\n",
    "if string[::-1] == string:\n",
    "    print(f'Text {string} is a Palindrome')\n",
    "else:\n",
    "    print(f'Text {string} is not a Palindrome')"
   ]
  },
  {
   "cell_type": "markdown",
   "metadata": {},
   "source": [
    "## Question No. 20: Count Alphabets, Numbers and Special Characters\n",
    "\n",
    "Write a Python program that accepts a string and calculate the number of digits and letters"
   ]
  },
  {
   "cell_type": "code",
   "execution_count": 20,
   "metadata": {},
   "outputs": [
    {
     "name": "stdout",
     "output_type": "stream",
     "text": [
      "Enter text: Python 3.67\n",
      "Numbers = 3\n",
      "Alphabets = 6\n",
      "Special Characters = 1\n",
      "Spaces = 1\n"
     ]
    }
   ],
   "source": [
    "text = input('Enter text: ')\n",
    "num = 0\n",
    "alpha = 0\n",
    "special = 0\n",
    "spaces = 0\n",
    "\n",
    "for i in text:\n",
    "    if i >= '0' and i <= '9':\n",
    "        num += 1\n",
    "    elif (i >= 'a' and i <= 'z') or (i >= 'A' and i <= 'Z'):\n",
    "        alpha += 1\n",
    "    elif i == ' ':\n",
    "        spaces += 1\n",
    "    else:\n",
    "        special += 1\n",
    "        \n",
    "print(f'Numbers = {num}')\n",
    "print(f'Alphabets = {alpha}')\n",
    "print(f'Special Characters = {special}')\n",
    "print(f'Spaces = {spaces}')"
   ]
  },
  {
   "cell_type": "markdown",
   "metadata": {},
   "source": [
    "## Question No. 21: Write a Python program to construct the following pattern\n",
    "\n",
    "\n",
    "    * \n",
    "    * *\n",
    "    * * * \n",
    "    * * * * \n",
    "    * * * * * \n",
    "    * * * * \n",
    "    * * * \n",
    "    * *\n",
    "    *"
   ]
  },
  {
   "cell_type": "code",
   "execution_count": 21,
   "metadata": {},
   "outputs": [
    {
     "name": "stdout",
     "output_type": "stream",
     "text": [
      "* \n",
      "* * \n",
      "* * * \n",
      "* * * * \n",
      "* * * * * \n",
      "* * * * \n",
      "* * * \n",
      "* * \n",
      "* \n",
      "\n"
     ]
    }
   ],
   "source": [
    "col = 5\n",
    "\n",
    "for i in range(col):\n",
    "    for j in range(i+1):\n",
    "        print('* ', end = '')\n",
    "    print('')\n",
    "    \n",
    "for i in range (col, 0, -1):\n",
    "    for j in range(0, i - 1):\n",
    "        print('* ', end='')\n",
    "    print('')"
   ]
  },
  {
   "cell_type": "markdown",
   "metadata": {},
   "source": [
    "## Question No. 22: Write a Python program to construct the following pattern\n",
    "\n",
    "    1\n",
    "    1 2 \n",
    "    1 2 3 \n",
    "    1 2 3 4 \n",
    "    1 2 3 4 5 \n",
    "    1 2 3 4 \n",
    "    1 2 3 \n",
    "    1 2 \n",
    "    1"
   ]
  },
  {
   "cell_type": "code",
   "execution_count": 22,
   "metadata": {},
   "outputs": [
    {
     "name": "stdout",
     "output_type": "stream",
     "text": [
      "1 \n",
      "1 2 \n",
      "1 2 3 \n",
      "1 2 3 4 \n",
      "1 2 3 4 5 \n",
      "1 2 3 4 \n",
      "1 2 3 \n",
      "1 2 \n",
      "1 \n",
      "\n"
     ]
    }
   ],
   "source": [
    "rows = 5\n",
    "for i in range (0, rows):\n",
    "    for j in range(0, i + 1):\n",
    "        print(f'{j+1} ', end='')\n",
    "    print(\"\")\n",
    "for i in range (rows, 0, -1):\n",
    "    for j in range(0, i -1):\n",
    "        print(f'{j+1} ', end='')\n",
    "    print(\"\")\n"
   ]
  },
  {
   "cell_type": "markdown",
   "metadata": {},
   "source": [
    "## Question No. 23: Write a Python program to construct the following pattern\n",
    "\n",
    "    1\n",
    "    22\n",
    "    333\n",
    "    4444\n",
    "    55555\n",
    "    666666\n",
    "    7777777\n",
    "    88888888\n",
    "    999999999"
   ]
  },
  {
   "cell_type": "code",
   "execution_count": 23,
   "metadata": {},
   "outputs": [
    {
     "name": "stdout",
     "output_type": "stream",
     "text": [
      "\n",
      "1 \n",
      "2 2 \n",
      "3 3 3 \n",
      "4 4 4 4 \n",
      "5 5 5 5 5 \n",
      "6 6 6 6 6 6 \n",
      "7 7 7 7 7 7 7 \n",
      "8 8 8 8 8 8 8 8 \n",
      "9 9 9 9 9 9 9 9 9 \n"
     ]
    }
   ],
   "source": [
    "for num in range(10):\n",
    "    for i in range(num):\n",
    "        print (f'{num} ', end = '')\n",
    "    print('')"
   ]
  }
 ],
 "metadata": {
  "kernelspec": {
   "display_name": "Python 3",
   "language": "python",
   "name": "python3"
  },
  "language_info": {
   "codemirror_mode": {
    "name": "ipython",
    "version": 3
   },
   "file_extension": ".py",
   "mimetype": "text/x-python",
   "name": "python",
   "nbconvert_exporter": "python",
   "pygments_lexer": "ipython3",
   "version": "3.6.8"
  }
 },
 "nbformat": 4,
 "nbformat_minor": 2
}
